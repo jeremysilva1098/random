{
 "cells": [
  {
   "cell_type": "code",
   "execution_count": 2,
   "metadata": {},
   "outputs": [],
   "source": [
    "import pandas as pd\n",
    "import numpy as np\n",
    "import matplotlib.pyplot as plt\n",
    "%matplotlib inline"
   ]
  },
  {
   "cell_type": "code",
   "execution_count": 3,
   "metadata": {},
   "outputs": [
    {
     "data": {
      "text/html": [
       "<div>\n",
       "<style scoped>\n",
       "    .dataframe tbody tr th:only-of-type {\n",
       "        vertical-align: middle;\n",
       "    }\n",
       "\n",
       "    .dataframe tbody tr th {\n",
       "        vertical-align: top;\n",
       "    }\n",
       "\n",
       "    .dataframe thead th {\n",
       "        text-align: right;\n",
       "    }\n",
       "</style>\n",
       "<table border=\"1\" class=\"dataframe\">\n",
       "  <thead>\n",
       "    <tr style=\"text-align: right;\">\n",
       "      <th></th>\n",
       "      <th>employee_ID</th>\n",
       "      <th>first_name</th>\n",
       "      <th>last_name</th>\n",
       "      <th>relationship</th>\n",
       "      <th>address</th>\n",
       "      <th>city</th>\n",
       "      <th>state</th>\n",
       "      <th>zip</th>\n",
       "      <th>phone1</th>\n",
       "    </tr>\n",
       "  </thead>\n",
       "  <tbody>\n",
       "    <tr>\n",
       "      <th>0</th>\n",
       "      <td>4069432</td>\n",
       "      <td>Fe</td>\n",
       "      <td>Denoia</td>\n",
       "      <td>Employee</td>\n",
       "      <td>38 W Vickery Blvd</td>\n",
       "      <td>Bound Brook</td>\n",
       "      <td>NJ</td>\n",
       "      <td>8805</td>\n",
       "      <td>732-655-9726</td>\n",
       "    </tr>\n",
       "    <tr>\n",
       "      <th>1</th>\n",
       "      <td>4827171</td>\n",
       "      <td>Timika</td>\n",
       "      <td>Biscardi</td>\n",
       "      <td>Spouse</td>\n",
       "      <td>682 Pinehurst St</td>\n",
       "      <td>Los Angeles</td>\n",
       "      <td>CA</td>\n",
       "      <td>90067</td>\n",
       "      <td>310-289-3570</td>\n",
       "    </tr>\n",
       "    <tr>\n",
       "      <th>2</th>\n",
       "      <td>9173685</td>\n",
       "      <td>Maryalice</td>\n",
       "      <td>Natsis</td>\n",
       "      <td>Employee</td>\n",
       "      <td>39 E 19th Ave</td>\n",
       "      <td>Caro</td>\n",
       "      <td>MI</td>\n",
       "      <td>48723</td>\n",
       "      <td>989-403-4187</td>\n",
       "    </tr>\n",
       "    <tr>\n",
       "      <th>3</th>\n",
       "      <td>7859119</td>\n",
       "      <td>Filomena</td>\n",
       "      <td>Stirewalt</td>\n",
       "      <td>Employee</td>\n",
       "      <td>287 S Date Ave #1</td>\n",
       "      <td>Medford</td>\n",
       "      <td>MA</td>\n",
       "      <td>2155</td>\n",
       "      <td>781-231-5265</td>\n",
       "    </tr>\n",
       "    <tr>\n",
       "      <th>4</th>\n",
       "      <td>1988592</td>\n",
       "      <td>Anjanette</td>\n",
       "      <td>Wortley</td>\n",
       "      <td>Employee</td>\n",
       "      <td>53 30w W</td>\n",
       "      <td>Aiea</td>\n",
       "      <td>HI</td>\n",
       "      <td>96701</td>\n",
       "      <td>808-531-3801</td>\n",
       "    </tr>\n",
       "  </tbody>\n",
       "</table>\n",
       "</div>"
      ],
      "text/plain": [
       "   employee_ID first_name  last_name relationship            address  \\\n",
       "0      4069432         Fe     Denoia     Employee  38 W Vickery Blvd   \n",
       "1      4827171     Timika   Biscardi       Spouse   682 Pinehurst St   \n",
       "2      9173685  Maryalice     Natsis     Employee      39 E 19th Ave   \n",
       "3      7859119   Filomena  Stirewalt     Employee  287 S Date Ave #1   \n",
       "4      1988592  Anjanette    Wortley     Employee           53 30w W   \n",
       "\n",
       "          city state    zip        phone1  \n",
       "0  Bound Brook    NJ   8805  732-655-9726  \n",
       "1  Los Angeles    CA  90067  310-289-3570  \n",
       "2         Caro    MI  48723  989-403-4187  \n",
       "3      Medford    MA   2155  781-231-5265  \n",
       "4         Aiea    HI  96701  808-531-3801  "
      ]
     },
     "execution_count": 3,
     "metadata": {},
     "output_type": "execute_result"
    }
   ],
   "source": [
    "# Read in the address dataset\n",
    "address= pd.read_csv('address_dataset.csv')\n",
    "address.head()"
   ]
  },
  {
   "cell_type": "code",
   "execution_count": 4,
   "metadata": {},
   "outputs": [
    {
     "data": {
      "text/html": [
       "<div>\n",
       "<style scoped>\n",
       "    .dataframe tbody tr th:only-of-type {\n",
       "        vertical-align: middle;\n",
       "    }\n",
       "\n",
       "    .dataframe tbody tr th {\n",
       "        vertical-align: top;\n",
       "    }\n",
       "\n",
       "    .dataframe thead th {\n",
       "        text-align: right;\n",
       "    }\n",
       "</style>\n",
       "<table border=\"1\" class=\"dataframe\">\n",
       "  <thead>\n",
       "    <tr style=\"text-align: right;\">\n",
       "      <th></th>\n",
       "      <th>employee_ID</th>\n",
       "      <th>email</th>\n",
       "    </tr>\n",
       "  </thead>\n",
       "  <tbody>\n",
       "    <tr>\n",
       "      <th>0</th>\n",
       "      <td>4453134</td>\n",
       "      <td>tmillender@hotmail.com</td>\n",
       "    </tr>\n",
       "    <tr>\n",
       "      <th>1</th>\n",
       "      <td>1875342</td>\n",
       "      <td>NaN</td>\n",
       "    </tr>\n",
       "    <tr>\n",
       "      <th>2</th>\n",
       "      <td>4163360</td>\n",
       "      <td>NaN</td>\n",
       "    </tr>\n",
       "    <tr>\n",
       "      <th>3</th>\n",
       "      <td>2346489</td>\n",
       "      <td>lhutchison@hutchison.com</td>\n",
       "    </tr>\n",
       "    <tr>\n",
       "      <th>4</th>\n",
       "      <td>1195910</td>\n",
       "      <td>cplatania@yahoo.com</td>\n",
       "    </tr>\n",
       "  </tbody>\n",
       "</table>\n",
       "</div>"
      ],
      "text/plain": [
       "   employee_ID                     email\n",
       "0      4453134    tmillender@hotmail.com\n",
       "1      1875342                       NaN\n",
       "2      4163360                       NaN\n",
       "3      2346489  lhutchison@hutchison.com\n",
       "4      1195910       cplatania@yahoo.com"
      ]
     },
     "execution_count": 4,
     "metadata": {},
     "output_type": "execute_result"
    }
   ],
   "source": [
    "# Read in the email dataset\n",
    "email= pd.read_csv('email_dataset.csv')\n",
    "email.head()"
   ]
  },
  {
   "cell_type": "markdown",
   "metadata": {},
   "source": [
    "## Inspecting Address Data"
   ]
  },
  {
   "cell_type": "code",
   "execution_count": 5,
   "metadata": {},
   "outputs": [
    {
     "name": "stdout",
     "output_type": "stream",
     "text": [
      "<class 'pandas.core.frame.DataFrame'>\n",
      "RangeIndex: 48732 entries, 0 to 48731\n",
      "Data columns (total 9 columns):\n",
      " #   Column        Non-Null Count  Dtype \n",
      "---  ------        --------------  ----- \n",
      " 0   employee_ID   48732 non-null  int64 \n",
      " 1   first_name    48732 non-null  object\n",
      " 2   last_name     48732 non-null  object\n",
      " 3   relationship  48732 non-null  object\n",
      " 4   address       48732 non-null  object\n",
      " 5   city          48732 non-null  object\n",
      " 6   state         48732 non-null  object\n",
      " 7   zip           48732 non-null  int64 \n",
      " 8   phone1        48732 non-null  object\n",
      "dtypes: int64(2), object(7)\n",
      "memory usage: 3.3+ MB\n"
     ]
    }
   ],
   "source": [
    "address.info()"
   ]
  },
  {
   "cell_type": "markdown",
   "metadata": {},
   "source": [
    "### Notes\n",
    "\n",
    "-There are no null values \n",
    "\n",
    "-All datatypes are logical for each attribute except phone\n",
    "\n",
    "-Phone is an object where as we may want it to be an int64. It just depends on our needs. For now we can leave it as an object\n",
    "\n",
    "-There are 48732 observations"
   ]
  },
  {
   "cell_type": "code",
   "execution_count": 6,
   "metadata": {},
   "outputs": [
    {
     "data": {
      "text/plain": [
       "employee_ID     48732\n",
       "first_name       5162\n",
       "last_name       37683\n",
       "relationship        2\n",
       "address         47350\n",
       "city             1494\n",
       "state              51\n",
       "zip              2861\n",
       "phone1          48729\n",
       "dtype: int64"
      ]
     },
     "execution_count": 6,
     "metadata": {},
     "output_type": "execute_result"
    }
   ],
   "source": [
    "# How many unique values are there for each attribute\n",
    "address.nunique()"
   ]
  },
  {
   "cell_type": "markdown",
   "metadata": {},
   "source": [
    "### Notes\n",
    "\n",
    "-There are 48732 unique employee_ids which is good\n",
    "\n",
    "-There are not enough unique phone numbers which tells me that some spouses likely listed he same phone number as their spouse"
   ]
  },
  {
   "cell_type": "markdown",
   "metadata": {},
   "source": [
    "## Inspecting the Email Dataset"
   ]
  },
  {
   "cell_type": "code",
   "execution_count": 7,
   "metadata": {},
   "outputs": [
    {
     "name": "stdout",
     "output_type": "stream",
     "text": [
      "<class 'pandas.core.frame.DataFrame'>\n",
      "RangeIndex: 50625 entries, 0 to 50624\n",
      "Data columns (total 2 columns):\n",
      " #   Column       Non-Null Count  Dtype \n",
      "---  ------       --------------  ----- \n",
      " 0   employee_ID  50625 non-null  int64 \n",
      " 1   email        44192 non-null  object\n",
      "dtypes: int64(1), object(1)\n",
      "memory usage: 791.1+ KB\n"
     ]
    }
   ],
   "source": [
    "email.info()"
   ]
  },
  {
   "cell_type": "code",
   "execution_count": 8,
   "metadata": {},
   "outputs": [
    {
     "data": {
      "text/plain": [
       "employee_ID    50625\n",
       "email          43056\n",
       "dtype: int64"
      ]
     },
     "execution_count": 8,
     "metadata": {},
     "output_type": "execute_result"
    }
   ],
   "source": [
    "email.nunique()"
   ]
  },
  {
   "cell_type": "markdown",
   "metadata": {},
   "source": [
    "### Notes\n",
    "\n",
    "-We have no null values in emloyee_id\n",
    "\n",
    "-We have roughly 6,000 null values for email\n",
    "\n",
    "-We have only 43056 unique email addresses which means that some email addresses are shared between those with different employee_ids\n",
    "\n",
    "-We have more employee_ids in this dataset than we do in the addresses dataset leading me to beleive may be missing some data in that data file"
   ]
  },
  {
   "cell_type": "code",
   "execution_count": 9,
   "metadata": {},
   "outputs": [
    {
     "name": "stdout",
     "output_type": "stream",
     "text": [
      "We have 6433 null emails in the email datatset.\n"
     ]
    }
   ],
   "source": [
    "# How many null values are there in the email column of the email dataset?\n",
    "print('We have {} null emails in the email datatset.'.format(email['email'].isnull().sum()))"
   ]
  },
  {
   "cell_type": "code",
   "execution_count": 10,
   "metadata": {},
   "outputs": [
    {
     "data": {
      "text/html": [
       "<div>\n",
       "<style scoped>\n",
       "    .dataframe tbody tr th:only-of-type {\n",
       "        vertical-align: middle;\n",
       "    }\n",
       "\n",
       "    .dataframe tbody tr th {\n",
       "        vertical-align: top;\n",
       "    }\n",
       "\n",
       "    .dataframe thead th {\n",
       "        text-align: right;\n",
       "    }\n",
       "</style>\n",
       "<table border=\"1\" class=\"dataframe\">\n",
       "  <thead>\n",
       "    <tr style=\"text-align: right;\">\n",
       "      <th></th>\n",
       "      <th>employee_ID</th>\n",
       "      <th>email</th>\n",
       "    </tr>\n",
       "  </thead>\n",
       "  <tbody>\n",
       "    <tr>\n",
       "      <th>1</th>\n",
       "      <td>1875342</td>\n",
       "      <td>NaN</td>\n",
       "    </tr>\n",
       "    <tr>\n",
       "      <th>2</th>\n",
       "      <td>4163360</td>\n",
       "      <td>NaN</td>\n",
       "    </tr>\n",
       "    <tr>\n",
       "      <th>5</th>\n",
       "      <td>6253152</td>\n",
       "      <td>NaN</td>\n",
       "    </tr>\n",
       "    <tr>\n",
       "      <th>11</th>\n",
       "      <td>4025922</td>\n",
       "      <td>NaN</td>\n",
       "    </tr>\n",
       "    <tr>\n",
       "      <th>19</th>\n",
       "      <td>867601</td>\n",
       "      <td>NaN</td>\n",
       "    </tr>\n",
       "    <tr>\n",
       "      <th>...</th>\n",
       "      <td>...</td>\n",
       "      <td>...</td>\n",
       "    </tr>\n",
       "    <tr>\n",
       "      <th>50592</th>\n",
       "      <td>7260497</td>\n",
       "      <td>NaN</td>\n",
       "    </tr>\n",
       "    <tr>\n",
       "      <th>50608</th>\n",
       "      <td>4674893</td>\n",
       "      <td>NaN</td>\n",
       "    </tr>\n",
       "    <tr>\n",
       "      <th>50609</th>\n",
       "      <td>5564598</td>\n",
       "      <td>NaN</td>\n",
       "    </tr>\n",
       "    <tr>\n",
       "      <th>50615</th>\n",
       "      <td>8974403</td>\n",
       "      <td>NaN</td>\n",
       "    </tr>\n",
       "    <tr>\n",
       "      <th>50621</th>\n",
       "      <td>817950</td>\n",
       "      <td>NaN</td>\n",
       "    </tr>\n",
       "  </tbody>\n",
       "</table>\n",
       "<p>6433 rows × 2 columns</p>\n",
       "</div>"
      ],
      "text/plain": [
       "       employee_ID email\n",
       "1          1875342   NaN\n",
       "2          4163360   NaN\n",
       "5          6253152   NaN\n",
       "11         4025922   NaN\n",
       "19          867601   NaN\n",
       "...            ...   ...\n",
       "50592      7260497   NaN\n",
       "50608      4674893   NaN\n",
       "50609      5564598   NaN\n",
       "50615      8974403   NaN\n",
       "50621       817950   NaN\n",
       "\n",
       "[6433 rows x 2 columns]"
      ]
     },
     "execution_count": 10,
     "metadata": {},
     "output_type": "execute_result"
    }
   ],
   "source": [
    "# Create a dataframe to store all the employees with no email address in the email dataframe\n",
    "null_emails= email[email['email'].isnull()]\n",
    "null_emails"
   ]
  },
  {
   "cell_type": "code",
   "execution_count": 11,
   "metadata": {},
   "outputs": [
    {
     "name": "stdout",
     "output_type": "stream",
     "text": [
      "We have 1136 employees in the email datatset with duplicate emails.\n"
     ]
    }
   ],
   "source": [
    "# create a dataframe of those with all double emails\n",
    "double_email= email[email.duplicated(['email'])]\n",
    "# Drop the NaNs to just see those with duplicated emails\n",
    "double_email= double_email.dropna()\n",
    "# Sort by email address\n",
    "double_email= double_email.sort_values(by='email')\n",
    "print('We have {} employees in the email datatset with duplicate emails.'.format(len(double_email)))"
   ]
  },
  {
   "cell_type": "code",
   "execution_count": 12,
   "metadata": {},
   "outputs": [
    {
     "name": "stdout",
     "output_type": "stream",
     "text": [
      "There are 2413 employee IDs in the email dataset that are not in the address dataset.\n"
     ]
    }
   ],
   "source": [
    "# We have more employee_ids in the email df than in the address df\n",
    "# Who is in the email df but not in the address df? \n",
    "# Create list of all emp_ids in the email dataset\n",
    "email_emp_id= list(email['employee_ID'])\n",
    "# Create list of all the emp_ids in the address dataset\n",
    "address_emp_id= list(address['employee_ID'])\n",
    "# Create empty list\n",
    "no_address= []\n",
    "\n",
    "# Loop through emp_id in email\n",
    "for x in email_emp_id:\n",
    "    # if there is not corresponding emp_id in the address df then add that emp_id to the empty list from above\n",
    "    if x not in address_emp_id:\n",
    "        no_address.append(x)\n",
    "\n",
    "print('There are {} employee IDs in the email dataset that are not in the address dataset.'.format(len(no_address)))"
   ]
  },
  {
   "cell_type": "code",
   "execution_count": 13,
   "metadata": {},
   "outputs": [
    {
     "data": {
      "text/html": [
       "<div>\n",
       "<style scoped>\n",
       "    .dataframe tbody tr th:only-of-type {\n",
       "        vertical-align: middle;\n",
       "    }\n",
       "\n",
       "    .dataframe tbody tr th {\n",
       "        vertical-align: top;\n",
       "    }\n",
       "\n",
       "    .dataframe thead th {\n",
       "        text-align: right;\n",
       "    }\n",
       "</style>\n",
       "<table border=\"1\" class=\"dataframe\">\n",
       "  <thead>\n",
       "    <tr style=\"text-align: right;\">\n",
       "      <th></th>\n",
       "      <th>employee_ID</th>\n",
       "      <th>email</th>\n",
       "    </tr>\n",
       "  </thead>\n",
       "  <tbody>\n",
       "    <tr>\n",
       "      <th>1</th>\n",
       "      <td>1875342</td>\n",
       "      <td>NaN</td>\n",
       "    </tr>\n",
       "    <tr>\n",
       "      <th>5</th>\n",
       "      <td>6253152</td>\n",
       "      <td>NaN</td>\n",
       "    </tr>\n",
       "    <tr>\n",
       "      <th>19</th>\n",
       "      <td>867601</td>\n",
       "      <td>NaN</td>\n",
       "    </tr>\n",
       "    <tr>\n",
       "      <th>26</th>\n",
       "      <td>3211378</td>\n",
       "      <td>NaN</td>\n",
       "    </tr>\n",
       "    <tr>\n",
       "      <th>32</th>\n",
       "      <td>7090560</td>\n",
       "      <td>NaN</td>\n",
       "    </tr>\n",
       "    <tr>\n",
       "      <th>...</th>\n",
       "      <td>...</td>\n",
       "      <td>...</td>\n",
       "    </tr>\n",
       "    <tr>\n",
       "      <th>50514</th>\n",
       "      <td>5347141</td>\n",
       "      <td>NaN</td>\n",
       "    </tr>\n",
       "    <tr>\n",
       "      <th>50534</th>\n",
       "      <td>9281782</td>\n",
       "      <td>NaN</td>\n",
       "    </tr>\n",
       "    <tr>\n",
       "      <th>50538</th>\n",
       "      <td>3993520</td>\n",
       "      <td>NaN</td>\n",
       "    </tr>\n",
       "    <tr>\n",
       "      <th>50545</th>\n",
       "      <td>8267851</td>\n",
       "      <td>NaN</td>\n",
       "    </tr>\n",
       "    <tr>\n",
       "      <th>50609</th>\n",
       "      <td>5564598</td>\n",
       "      <td>NaN</td>\n",
       "    </tr>\n",
       "  </tbody>\n",
       "</table>\n",
       "<p>2413 rows × 2 columns</p>\n",
       "</div>"
      ],
      "text/plain": [
       "       employee_ID email\n",
       "1          1875342   NaN\n",
       "5          6253152   NaN\n",
       "19          867601   NaN\n",
       "26         3211378   NaN\n",
       "32         7090560   NaN\n",
       "...            ...   ...\n",
       "50514      5347141   NaN\n",
       "50534      9281782   NaN\n",
       "50538      3993520   NaN\n",
       "50545      8267851   NaN\n",
       "50609      5564598   NaN\n",
       "\n",
       "[2413 rows x 2 columns]"
      ]
     },
     "execution_count": 13,
     "metadata": {},
     "output_type": "execute_result"
    }
   ],
   "source": [
    "# Create a df of those emp_ids which are present in the email_dataset but not the adress_dataset\n",
    "no_address_df= email[email['employee_ID'].isin(no_address)]\n",
    "no_address_df"
   ]
  },
  {
   "cell_type": "code",
   "execution_count": 26,
   "metadata": {},
   "outputs": [
    {
     "data": {
      "text/plain": [
       "employee_ID       0\n",
       "email          2413\n",
       "dtype: int64"
      ]
     },
     "execution_count": 26,
     "metadata": {},
     "output_type": "execute_result"
    }
   ],
   "source": [
    "# Are there any emplyee's without addresses who do have email's? \n",
    "no_address_df.isnull().sum()"
   ]
  },
  {
   "cell_type": "markdown",
   "metadata": {},
   "source": [
    "## Joining the Datasets"
   ]
  },
  {
   "cell_type": "code",
   "execution_count": 15,
   "metadata": {},
   "outputs": [],
   "source": [
    "# Merge the datasets but performing a left join with address and email joining on the email column\n",
    "# By doing this we will not have an emails for those we don't have address info on\n",
    "df= pd.merge(left=address, right= email, how='left', on='employee_ID')"
   ]
  },
  {
   "cell_type": "code",
   "execution_count": 16,
   "metadata": {},
   "outputs": [
    {
     "data": {
      "text/html": [
       "<div>\n",
       "<style scoped>\n",
       "    .dataframe tbody tr th:only-of-type {\n",
       "        vertical-align: middle;\n",
       "    }\n",
       "\n",
       "    .dataframe tbody tr th {\n",
       "        vertical-align: top;\n",
       "    }\n",
       "\n",
       "    .dataframe thead th {\n",
       "        text-align: right;\n",
       "    }\n",
       "</style>\n",
       "<table border=\"1\" class=\"dataframe\">\n",
       "  <thead>\n",
       "    <tr style=\"text-align: right;\">\n",
       "      <th></th>\n",
       "      <th>employee_ID</th>\n",
       "      <th>first_name</th>\n",
       "      <th>last_name</th>\n",
       "      <th>relationship</th>\n",
       "      <th>address</th>\n",
       "      <th>city</th>\n",
       "      <th>state</th>\n",
       "      <th>zip</th>\n",
       "      <th>phone1</th>\n",
       "      <th>email</th>\n",
       "    </tr>\n",
       "  </thead>\n",
       "  <tbody>\n",
       "    <tr>\n",
       "      <th>0</th>\n",
       "      <td>4069432</td>\n",
       "      <td>Fe</td>\n",
       "      <td>Denoia</td>\n",
       "      <td>Employee</td>\n",
       "      <td>38 W Vickery Blvd</td>\n",
       "      <td>Bound Brook</td>\n",
       "      <td>NJ</td>\n",
       "      <td>8805</td>\n",
       "      <td>732-655-9726</td>\n",
       "      <td>fe_denoia@gmail.com</td>\n",
       "    </tr>\n",
       "    <tr>\n",
       "      <th>1</th>\n",
       "      <td>4827171</td>\n",
       "      <td>Timika</td>\n",
       "      <td>Biscardi</td>\n",
       "      <td>Spouse</td>\n",
       "      <td>682 Pinehurst St</td>\n",
       "      <td>Los Angeles</td>\n",
       "      <td>CA</td>\n",
       "      <td>90067</td>\n",
       "      <td>310-289-3570</td>\n",
       "      <td>tbiscardi@gmail.com</td>\n",
       "    </tr>\n",
       "    <tr>\n",
       "      <th>2</th>\n",
       "      <td>9173685</td>\n",
       "      <td>Maryalice</td>\n",
       "      <td>Natsis</td>\n",
       "      <td>Employee</td>\n",
       "      <td>39 E 19th Ave</td>\n",
       "      <td>Caro</td>\n",
       "      <td>MI</td>\n",
       "      <td>48723</td>\n",
       "      <td>989-403-4187</td>\n",
       "      <td>mnatsis@hotmail.com</td>\n",
       "    </tr>\n",
       "    <tr>\n",
       "      <th>3</th>\n",
       "      <td>7859119</td>\n",
       "      <td>Filomena</td>\n",
       "      <td>Stirewalt</td>\n",
       "      <td>Employee</td>\n",
       "      <td>287 S Date Ave #1</td>\n",
       "      <td>Medford</td>\n",
       "      <td>MA</td>\n",
       "      <td>2155</td>\n",
       "      <td>781-231-5265</td>\n",
       "      <td>filomena.stirewalt@stirewalt.org</td>\n",
       "    </tr>\n",
       "    <tr>\n",
       "      <th>4</th>\n",
       "      <td>1988592</td>\n",
       "      <td>Anjanette</td>\n",
       "      <td>Wortley</td>\n",
       "      <td>Employee</td>\n",
       "      <td>53 30w W</td>\n",
       "      <td>Aiea</td>\n",
       "      <td>HI</td>\n",
       "      <td>96701</td>\n",
       "      <td>808-531-3801</td>\n",
       "      <td>anjanette_wortley@wortley.org</td>\n",
       "    </tr>\n",
       "  </tbody>\n",
       "</table>\n",
       "</div>"
      ],
      "text/plain": [
       "   employee_ID first_name  last_name relationship            address  \\\n",
       "0      4069432         Fe     Denoia     Employee  38 W Vickery Blvd   \n",
       "1      4827171     Timika   Biscardi       Spouse   682 Pinehurst St   \n",
       "2      9173685  Maryalice     Natsis     Employee      39 E 19th Ave   \n",
       "3      7859119   Filomena  Stirewalt     Employee  287 S Date Ave #1   \n",
       "4      1988592  Anjanette    Wortley     Employee           53 30w W   \n",
       "\n",
       "          city state    zip        phone1                             email  \n",
       "0  Bound Brook    NJ   8805  732-655-9726               fe_denoia@gmail.com  \n",
       "1  Los Angeles    CA  90067  310-289-3570               tbiscardi@gmail.com  \n",
       "2         Caro    MI  48723  989-403-4187               mnatsis@hotmail.com  \n",
       "3      Medford    MA   2155  781-231-5265  filomena.stirewalt@stirewalt.org  \n",
       "4         Aiea    HI  96701  808-531-3801     anjanette_wortley@wortley.org  "
      ]
     },
     "execution_count": 16,
     "metadata": {},
     "output_type": "execute_result"
    }
   ],
   "source": [
    "df.head()"
   ]
  },
  {
   "cell_type": "code",
   "execution_count": 17,
   "metadata": {},
   "outputs": [
    {
     "name": "stdout",
     "output_type": "stream",
     "text": [
      "<class 'pandas.core.frame.DataFrame'>\n",
      "Int64Index: 48732 entries, 0 to 48731\n",
      "Data columns (total 10 columns):\n",
      " #   Column        Non-Null Count  Dtype \n",
      "---  ------        --------------  ----- \n",
      " 0   employee_ID   48732 non-null  int64 \n",
      " 1   first_name    48732 non-null  object\n",
      " 2   last_name     48732 non-null  object\n",
      " 3   relationship  48732 non-null  object\n",
      " 4   address       48732 non-null  object\n",
      " 5   city          48732 non-null  object\n",
      " 6   state         48732 non-null  object\n",
      " 7   zip           48732 non-null  int64 \n",
      " 8   phone1        48732 non-null  object\n",
      " 9   email         44192 non-null  object\n",
      "dtypes: int64(2), object(8)\n",
      "memory usage: 4.1+ MB\n"
     ]
    }
   ],
   "source": [
    "df.info()"
   ]
  },
  {
   "cell_type": "code",
   "execution_count": 18,
   "metadata": {},
   "outputs": [
    {
     "data": {
      "text/plain": [
       "employee_ID     48732\n",
       "first_name       5162\n",
       "last_name       37683\n",
       "relationship        2\n",
       "address         47350\n",
       "city             1494\n",
       "state              51\n",
       "zip              2861\n",
       "phone1          48729\n",
       "email           43056\n",
       "dtype: int64"
      ]
     },
     "execution_count": 18,
     "metadata": {},
     "output_type": "execute_result"
    }
   ],
   "source": [
    "df.nunique()"
   ]
  },
  {
   "cell_type": "code",
   "execution_count": 28,
   "metadata": {},
   "outputs": [
    {
     "data": {
      "text/html": [
       "<div>\n",
       "<style scoped>\n",
       "    .dataframe tbody tr th:only-of-type {\n",
       "        vertical-align: middle;\n",
       "    }\n",
       "\n",
       "    .dataframe tbody tr th {\n",
       "        vertical-align: top;\n",
       "    }\n",
       "\n",
       "    .dataframe thead th {\n",
       "        text-align: right;\n",
       "    }\n",
       "</style>\n",
       "<table border=\"1\" class=\"dataframe\">\n",
       "  <thead>\n",
       "    <tr style=\"text-align: right;\">\n",
       "      <th></th>\n",
       "      <th>employee_ID</th>\n",
       "      <th>first_name</th>\n",
       "      <th>last_name</th>\n",
       "      <th>relationship</th>\n",
       "      <th>address</th>\n",
       "      <th>city</th>\n",
       "      <th>state</th>\n",
       "      <th>zip</th>\n",
       "      <th>phone1</th>\n",
       "      <th>email</th>\n",
       "    </tr>\n",
       "  </thead>\n",
       "  <tbody>\n",
       "    <tr>\n",
       "      <th>21799</th>\n",
       "      <td>1139325</td>\n",
       "      <td>Aaron</td>\n",
       "      <td>Smutny</td>\n",
       "      <td>Employee</td>\n",
       "      <td>93316 S 2nd Ave #47</td>\n",
       "      <td>Los Angeles</td>\n",
       "      <td>CA</td>\n",
       "      <td>90048</td>\n",
       "      <td>323-383-1267</td>\n",
       "      <td>aaron@cox.net</td>\n",
       "    </tr>\n",
       "    <tr>\n",
       "      <th>45758</th>\n",
       "      <td>5210699</td>\n",
       "      <td>Aaron</td>\n",
       "      <td>Rolin</td>\n",
       "      <td>Employee</td>\n",
       "      <td>13955 E Campbell Ave</td>\n",
       "      <td>Nutley</td>\n",
       "      <td>NJ</td>\n",
       "      <td>7110</td>\n",
       "      <td>973-260-1301</td>\n",
       "      <td>aaron@cox.net</td>\n",
       "    </tr>\n",
       "    <tr>\n",
       "      <th>43119</th>\n",
       "      <td>5619161</td>\n",
       "      <td>Adrian</td>\n",
       "      <td>Hachez</td>\n",
       "      <td>Spouse</td>\n",
       "      <td>65 Worth St</td>\n",
       "      <td>Columbia</td>\n",
       "      <td>SC</td>\n",
       "      <td>29201</td>\n",
       "      <td>803-394-7240</td>\n",
       "      <td>adrian@hotmail.com</td>\n",
       "    </tr>\n",
       "    <tr>\n",
       "      <th>25353</th>\n",
       "      <td>2428173</td>\n",
       "      <td>Adrian</td>\n",
       "      <td>Toquinto</td>\n",
       "      <td>Employee</td>\n",
       "      <td>37 W 19th St</td>\n",
       "      <td>College Station</td>\n",
       "      <td>TX</td>\n",
       "      <td>77840</td>\n",
       "      <td>979-576-4870</td>\n",
       "      <td>adrian@hotmail.com</td>\n",
       "    </tr>\n",
       "    <tr>\n",
       "      <th>44609</th>\n",
       "      <td>7120247</td>\n",
       "      <td>Adrien</td>\n",
       "      <td>Poskus</td>\n",
       "      <td>Employee</td>\n",
       "      <td>57 Castor Ave #35</td>\n",
       "      <td>Chicago</td>\n",
       "      <td>IL</td>\n",
       "      <td>60605</td>\n",
       "      <td>312-767-8144</td>\n",
       "      <td>adrien@yahoo.com</td>\n",
       "    </tr>\n",
       "  </tbody>\n",
       "</table>\n",
       "</div>"
      ],
      "text/plain": [
       "       employee_ID first_name last_name relationship               address  \\\n",
       "21799      1139325      Aaron    Smutny     Employee   93316 S 2nd Ave #47   \n",
       "45758      5210699      Aaron     Rolin     Employee  13955 E Campbell Ave   \n",
       "43119      5619161     Adrian    Hachez       Spouse           65 Worth St   \n",
       "25353      2428173     Adrian  Toquinto     Employee          37 W 19th St   \n",
       "44609      7120247     Adrien    Poskus     Employee     57 Castor Ave #35   \n",
       "\n",
       "                  city state    zip        phone1               email  \n",
       "21799      Los Angeles    CA  90048  323-383-1267       aaron@cox.net  \n",
       "45758           Nutley    NJ   7110  973-260-1301       aaron@cox.net  \n",
       "43119         Columbia    SC  29201  803-394-7240  adrian@hotmail.com  \n",
       "25353  College Station    TX  77840  979-576-4870  adrian@hotmail.com  \n",
       "44609          Chicago    IL  60605  312-767-8144    adrien@yahoo.com  "
      ]
     },
     "execution_count": 28,
     "metadata": {},
     "output_type": "execute_result"
    }
   ],
   "source": [
    "# create a dataframe of those with a duplicated email\n",
    "duplicated_email= df[df.duplicated(['email'])]\n",
    "# Drop the NaNs to just see those with duplicated emmails\n",
    "duplicated_email= duplicated_email.dropna()\n",
    "# Sort by email address\n",
    "duplicated_email= duplicated_email.sort_values(by='email')\n",
    "duplicated_email.head()"
   ]
  },
  {
   "cell_type": "code",
   "execution_count": 20,
   "metadata": {},
   "outputs": [
    {
     "name": "stdout",
     "output_type": "stream",
     "text": [
      "We have 1136 duplicate emails in the merged dataset.\n"
     ]
    }
   ],
   "source": [
    "# How many duplicate email addresses are there in the merged dataset?\n",
    "print(\"We have {} duplicate emails in the merged dataset.\".format(len(duplicated_email)))"
   ]
  },
  {
   "cell_type": "code",
   "execution_count": 21,
   "metadata": {},
   "outputs": [
    {
     "name": "stdout",
     "output_type": "stream",
     "text": [
      "We have 4540 null emails in the merged datatset.\n"
     ]
    }
   ],
   "source": [
    "# How many null values are there in the email column of the merged dataset\n",
    "print('We have {} null emails in the merged datatset.'.format(df['email'].isnull().sum()))"
   ]
  },
  {
   "cell_type": "code",
   "execution_count": 22,
   "metadata": {},
   "outputs": [
    {
     "data": {
      "text/html": [
       "<div>\n",
       "<style scoped>\n",
       "    .dataframe tbody tr th:only-of-type {\n",
       "        vertical-align: middle;\n",
       "    }\n",
       "\n",
       "    .dataframe tbody tr th {\n",
       "        vertical-align: top;\n",
       "    }\n",
       "\n",
       "    .dataframe thead th {\n",
       "        text-align: right;\n",
       "    }\n",
       "</style>\n",
       "<table border=\"1\" class=\"dataframe\">\n",
       "  <thead>\n",
       "    <tr style=\"text-align: right;\">\n",
       "      <th></th>\n",
       "      <th>employee_ID</th>\n",
       "      <th>first_name</th>\n",
       "      <th>last_name</th>\n",
       "      <th>relationship</th>\n",
       "      <th>address</th>\n",
       "      <th>city</th>\n",
       "      <th>state</th>\n",
       "      <th>zip</th>\n",
       "      <th>phone1</th>\n",
       "      <th>email</th>\n",
       "    </tr>\n",
       "  </thead>\n",
       "  <tbody>\n",
       "    <tr>\n",
       "      <th>10</th>\n",
       "      <td>6137607</td>\n",
       "      <td>Winfred</td>\n",
       "      <td>Lammy</td>\n",
       "      <td>Employee</td>\n",
       "      <td>518 S Rainbow Blvd Bldg</td>\n",
       "      <td>Flanders</td>\n",
       "      <td>NJ</td>\n",
       "      <td>7836</td>\n",
       "      <td>973-320-5873</td>\n",
       "      <td>NaN</td>\n",
       "    </tr>\n",
       "    <tr>\n",
       "      <th>31</th>\n",
       "      <td>9606969</td>\n",
       "      <td>Ena</td>\n",
       "      <td>Villena</td>\n",
       "      <td>Employee</td>\n",
       "      <td>56469 S State St</td>\n",
       "      <td>Hyattsville</td>\n",
       "      <td>MD</td>\n",
       "      <td>20785</td>\n",
       "      <td>301-683-4137</td>\n",
       "      <td>NaN</td>\n",
       "    </tr>\n",
       "    <tr>\n",
       "      <th>68</th>\n",
       "      <td>9297568</td>\n",
       "      <td>Keshia</td>\n",
       "      <td>Bernardo</td>\n",
       "      <td>Employee</td>\n",
       "      <td>7 E 29th St #8794</td>\n",
       "      <td>San Leandro</td>\n",
       "      <td>CA</td>\n",
       "      <td>94577</td>\n",
       "      <td>510-879-3634</td>\n",
       "      <td>NaN</td>\n",
       "    </tr>\n",
       "    <tr>\n",
       "      <th>82</th>\n",
       "      <td>3718867</td>\n",
       "      <td>Cristine</td>\n",
       "      <td>Hennis</td>\n",
       "      <td>Employee</td>\n",
       "      <td>43107 Seneca Rd #5</td>\n",
       "      <td>Bowling Green</td>\n",
       "      <td>KY</td>\n",
       "      <td>42104</td>\n",
       "      <td>270-359-2272</td>\n",
       "      <td>NaN</td>\n",
       "    </tr>\n",
       "    <tr>\n",
       "      <th>127</th>\n",
       "      <td>6477916</td>\n",
       "      <td>Venus</td>\n",
       "      <td>Millisor</td>\n",
       "      <td>Employee</td>\n",
       "      <td>473 E Main St #3443</td>\n",
       "      <td>Indianapolis</td>\n",
       "      <td>IN</td>\n",
       "      <td>46236</td>\n",
       "      <td>317-532-1797</td>\n",
       "      <td>NaN</td>\n",
       "    </tr>\n",
       "    <tr>\n",
       "      <th>...</th>\n",
       "      <td>...</td>\n",
       "      <td>...</td>\n",
       "      <td>...</td>\n",
       "      <td>...</td>\n",
       "      <td>...</td>\n",
       "      <td>...</td>\n",
       "      <td>...</td>\n",
       "      <td>...</td>\n",
       "      <td>...</td>\n",
       "      <td>...</td>\n",
       "    </tr>\n",
       "    <tr>\n",
       "      <th>48727</th>\n",
       "      <td>514171</td>\n",
       "      <td>Ahmed</td>\n",
       "      <td>Truong</td>\n",
       "      <td>Employee</td>\n",
       "      <td>70421 Wyatt Dr</td>\n",
       "      <td>Dallas</td>\n",
       "      <td>TX</td>\n",
       "      <td>75207</td>\n",
       "      <td>214-630-6209</td>\n",
       "      <td>NaN</td>\n",
       "    </tr>\n",
       "    <tr>\n",
       "      <th>48728</th>\n",
       "      <td>5055739</td>\n",
       "      <td>Page</td>\n",
       "      <td>Zolocsik</td>\n",
       "      <td>Employee</td>\n",
       "      <td>9 W Belmont Ave</td>\n",
       "      <td>San Diego</td>\n",
       "      <td>CA</td>\n",
       "      <td>92110</td>\n",
       "      <td>858-640-8928</td>\n",
       "      <td>NaN</td>\n",
       "    </tr>\n",
       "    <tr>\n",
       "      <th>48729</th>\n",
       "      <td>5335981</td>\n",
       "      <td>Idalia</td>\n",
       "      <td>Yashinski</td>\n",
       "      <td>Employee</td>\n",
       "      <td>11987 S Fair Oaks Ave</td>\n",
       "      <td>San Francisco</td>\n",
       "      <td>CA</td>\n",
       "      <td>94107</td>\n",
       "      <td>415-797-6394</td>\n",
       "      <td>NaN</td>\n",
       "    </tr>\n",
       "    <tr>\n",
       "      <th>48730</th>\n",
       "      <td>3471421</td>\n",
       "      <td>Samira</td>\n",
       "      <td>Atengco</td>\n",
       "      <td>Employee</td>\n",
       "      <td>301 Bannock St</td>\n",
       "      <td>Wappingers Falls</td>\n",
       "      <td>NY</td>\n",
       "      <td>12590</td>\n",
       "      <td>845-990-4883</td>\n",
       "      <td>NaN</td>\n",
       "    </tr>\n",
       "    <tr>\n",
       "      <th>48731</th>\n",
       "      <td>3515684</td>\n",
       "      <td>Rupert</td>\n",
       "      <td>Poper</td>\n",
       "      <td>Employee</td>\n",
       "      <td>8 Aspen St</td>\n",
       "      <td>Northridge</td>\n",
       "      <td>CA</td>\n",
       "      <td>91325</td>\n",
       "      <td>818-836-8690</td>\n",
       "      <td>NaN</td>\n",
       "    </tr>\n",
       "  </tbody>\n",
       "</table>\n",
       "<p>4540 rows × 10 columns</p>\n",
       "</div>"
      ],
      "text/plain": [
       "       employee_ID first_name  last_name relationship  \\\n",
       "10         6137607    Winfred      Lammy     Employee   \n",
       "31         9606969        Ena    Villena     Employee   \n",
       "68         9297568     Keshia   Bernardo     Employee   \n",
       "82         3718867   Cristine     Hennis     Employee   \n",
       "127        6477916      Venus   Millisor     Employee   \n",
       "...            ...        ...        ...          ...   \n",
       "48727       514171      Ahmed     Truong     Employee   \n",
       "48728      5055739       Page   Zolocsik     Employee   \n",
       "48729      5335981     Idalia  Yashinski     Employee   \n",
       "48730      3471421     Samira    Atengco     Employee   \n",
       "48731      3515684     Rupert      Poper     Employee   \n",
       "\n",
       "                       address              city state    zip        phone1  \\\n",
       "10     518 S Rainbow Blvd Bldg          Flanders    NJ   7836  973-320-5873   \n",
       "31            56469 S State St       Hyattsville    MD  20785  301-683-4137   \n",
       "68           7 E 29th St #8794       San Leandro    CA  94577  510-879-3634   \n",
       "82          43107 Seneca Rd #5     Bowling Green    KY  42104  270-359-2272   \n",
       "127        473 E Main St #3443      Indianapolis    IN  46236  317-532-1797   \n",
       "...                        ...               ...   ...    ...           ...   \n",
       "48727           70421 Wyatt Dr            Dallas    TX  75207  214-630-6209   \n",
       "48728          9 W Belmont Ave         San Diego    CA  92110  858-640-8928   \n",
       "48729    11987 S Fair Oaks Ave     San Francisco    CA  94107  415-797-6394   \n",
       "48730           301 Bannock St  Wappingers Falls    NY  12590  845-990-4883   \n",
       "48731               8 Aspen St        Northridge    CA  91325  818-836-8690   \n",
       "\n",
       "      email  \n",
       "10      NaN  \n",
       "31      NaN  \n",
       "68      NaN  \n",
       "82      NaN  \n",
       "127     NaN  \n",
       "...     ...  \n",
       "48727   NaN  \n",
       "48728   NaN  \n",
       "48729   NaN  \n",
       "48730   NaN  \n",
       "48731   NaN  \n",
       "\n",
       "[4540 rows x 10 columns]"
      ]
     },
     "execution_count": 22,
     "metadata": {},
     "output_type": "execute_result"
    }
   ],
   "source": [
    "# Create a dataframe to hold those who have no email address in the merged dataframe\n",
    "merged_no_email= df[df['email'].isnull()]\n",
    "merged_no_email"
   ]
  },
  {
   "cell_type": "markdown",
   "metadata": {},
   "source": [
    "# Summary for Contact"
   ]
  },
  {
   "cell_type": "markdown",
   "metadata": {},
   "source": [
    "### Issues with the datasets\n",
    "\n",
    "1) There are 6,433 employee_IDs with null email addresses in the email_dataset. Those employees missing an email are stored in the CSV file entitled \"Null_Emails\"\n",
    "\n",
    "2) There are 1136 employees in the email datatset with duplicate email addresses. Those employees are held in the CSV file entitled \"Double_Email\".\n",
    "\n",
    "3) There are 2413 employee_IDs in the email_dataset that do not have a match in the address_dataset based on employee_ID. Those employees are held in the CSV file entitled \"No_Address\"."
   ]
  },
  {
   "cell_type": "code",
   "execution_count": 23,
   "metadata": {},
   "outputs": [],
   "source": [
    "null_emails.to_csv(\"Null_Emails\")\n",
    "double_email.to_csv(\"Double_Email\")\n",
    "no_address_df.to_csv(\"No_Address\")"
   ]
  },
  {
   "cell_type": "markdown",
   "metadata": {},
   "source": [
    "# Internal Summary for Coworkers"
   ]
  },
  {
   "cell_type": "markdown",
   "metadata": {},
   "source": [
    "## Summary of my work\n",
    "\n",
    "I have joined the email_datatset and the address_datatset by matching on the employee_id. This merged dataset can be found in the CSV file entitled \"Merged_DF\". I did a left join with address_dataset and email_address so any employees from the email_dataset not found in the address_dataset were dropped. I did this becuase those employees in the email_dataset but not the address_dataset also happened to have Null values for their email addresses as well. No employees were lost from the address_dataset during this merge.\n",
    "\n"
   ]
  },
  {
   "cell_type": "code",
   "execution_count": 24,
   "metadata": {},
   "outputs": [],
   "source": [
    "df.to_csv(\"Merged_DF\")"
   ]
  },
  {
   "cell_type": "markdown",
   "metadata": {},
   "source": [
    "## Issues with the merged Dataset\n",
    "\n",
    "1) There are 1136 duplicate emails in the merged dataset. Those employees can be found in the CSV entitled \"Duplicate_Emails\".\n",
    "\n",
    "2) There are 4540 null emails in the merged datatset.Those employees with no email address can be found in the CSV entitled \"Merged_No_Email\"."
   ]
  },
  {
   "cell_type": "code",
   "execution_count": 25,
   "metadata": {},
   "outputs": [],
   "source": [
    "duplicated_email.to_csv(\"Duplicate_Emails\")\n",
    "merged_no_email.to_csv(\"Merged_No_Email\")"
   ]
  },
  {
   "cell_type": "code",
   "execution_count": null,
   "metadata": {},
   "outputs": [],
   "source": []
  }
 ],
 "metadata": {
  "kernelspec": {
   "display_name": "Python 3",
   "language": "python",
   "name": "python3"
  },
  "language_info": {
   "codemirror_mode": {
    "name": "ipython",
    "version": 3
   },
   "file_extension": ".py",
   "mimetype": "text/x-python",
   "name": "python",
   "nbconvert_exporter": "python",
   "pygments_lexer": "ipython3",
   "version": "3.8.3"
  }
 },
 "nbformat": 4,
 "nbformat_minor": 4
}
